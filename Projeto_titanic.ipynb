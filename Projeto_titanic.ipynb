{
  "nbformat": 4,
  "nbformat_minor": 0,
  "metadata": {
    "colab": {
      "name": "Projeto_titanic.ipynb",
      "provenance": [],
      "collapsed_sections": []
    },
    "kernelspec": {
      "name": "python3",
      "display_name": "Python 3"
    },
    "accelerator": "GPU"
  },
  "cells": [
    {
      "cell_type": "markdown",
      "metadata": {
        "id": "aFAq0iNe4-41"
      },
      "source": [
        "# Titanic\n",
        "\n",
        "#Introdução\n",
        "Nesse mini-projeto, iremos através dos parâmetros dados no dataset \"Titanic - Machine Learning from Disaster\" usar o modelo de árvore de Decisão para prever quem sobreviveria ou não."
      ]
    },
    {
      "cell_type": "markdown",
      "source": [
        "#Equipe\n",
        "\n",
        "\n",
        "*   Vinícius Sales Oliveira - vso2\n",
        "*   Tales Vinícius Alves da Cunha - tvac\n",
        "*   Pedro Vitor Cunha - pvc3\n",
        "*   Lucas Dias Maciel - ldm\n",
        "\n"
      ],
      "metadata": {
        "id": "P195tlVRZ4RB"
      }
    },
    {
      "cell_type": "markdown",
      "source": [
        "#Bibliotecas Necessárias"
      ],
      "metadata": {
        "id": "C4Jak3o3zYBL"
      }
    },
    {
      "cell_type": "code",
      "metadata": {
        "id": "yiQEPhPAL-pg"
      },
      "source": [
        "import pandas as pd\n",
        "from sklearn.tree import DecisionTreeClassifier\n",
        "import numpy as np\n",
        "import matplotlib.pyplot as plt\n",
        "import seaborn as sns\n",
        "from scipy import stats\n",
        "from sklearn.model_selection import train_test_split,GridSearchCV\n",
        "from sklearn.metrics import accuracy_score, confusion_matrix, classification_report\n",
        "from subprocess import call\n",
        "from sklearn.tree import export_graphviz\n",
        "from sklearn.preprocessing import RobustScaler"
      ],
      "execution_count": 102,
      "outputs": []
    },
    {
      "cell_type": "markdown",
      "metadata": {
        "id": "d8B5x2HkM-B9"
      },
      "source": [
        "#Funções Auxiliares"
      ]
    },
    {
      "cell_type": "code",
      "metadata": {
        "id": "gLFmBMqkNPWi"
      },
      "source": [
        "def getResults(x_test, y_test, model):\n",
        "  predicted = model.predict(x_test)\n",
        "  print(\"Acurácia = \", accuracy_score(y_test, predicted),\"\\n\\n\\n\")\n",
        "  cm = confusion_matrix(y_test, predicted)\n",
        "  sns.heatmap(cm, center=True)\n",
        "  plt.show()\n",
        "  print(pd.DataFrame(\n",
        "    confusion_matrix(y_test, predicted),\n",
        "    columns=['Predicted Not Survival', 'Predicted Survival'],\n",
        "    index=['True Not Survival', 'True Survival']\n",
        "  ))\n",
        "  report = classification_report(y_test, predicted)\n",
        "  print(\"\\n\\n\\n\")\n",
        "  print(report)\n",
        "\n"
      ],
      "execution_count": 103,
      "outputs": []
    },
    {
      "cell_type": "code",
      "metadata": {
        "id": "gxKS1ZLYfHNL"
      },
      "source": [
        "def vis_tree(name,x,y):\n",
        "  target_names = np.unique(y)\n",
        "  columns = df.columns\n",
        "  export_graphviz(\n",
        "            tree,\n",
        "            out_file =  \"tree_titanic_\" + name + \".dot\",\n",
        "            feature_names = list(x.columns))\n",
        "\n",
        "  call(['dot', '-T', 'png', \"tree_titanic_\" + name + \".dot\", '-o', \"tree_titanic_\" + name + \".png\"])"
      ],
      "execution_count": 104,
      "outputs": []
    },
    {
      "cell_type": "code",
      "metadata": {
        "id": "ouWU4QMiLlAU"
      },
      "source": [
        "def process_train_test(df):\n",
        "  x=df.drop(['Survived'], axis = 1)\n",
        "  y=df['Survived']\n",
        "  x_train, x_test, y_train, y_test = train_test_split(x, y, random_state=28)\n",
        "\n",
        "  return x_train, x_test, y_train, y_test"
      ],
      "execution_count": 105,
      "outputs": []
    },
    {
      "cell_type": "markdown",
      "source": [
        "#Dataset\n",
        "Nessa etapa, transformamos os 3 arquivos csv (train.csv, test.csv e gender submission.csv) em um só dataframe."
      ],
      "metadata": {
        "id": "4-ttsXT90I3Y"
      }
    },
    {
      "cell_type": "code",
      "metadata": {
        "colab": {
          "base_uri": "https://localhost:8080/",
          "height": 307
        },
        "id": "OaHiV1xhQJWD",
        "outputId": "5cda70d7-be23-4d4a-8efd-4b31d0854493"
      },
      "source": [
        "# Load data and store it into pandas DataFrame objects\n",
        "df = pd.read_csv('train.csv', index_col='PassengerId')\n",
        "dfaux = pd.read_csv('test.csv', index_col='PassengerId')\n",
        "dfaux2 = pd.read_csv('gender_submission.csv', index_col='PassengerId')\n",
        "dfaux['Survived'] = dfaux2['Survived']\n",
        "cols = dfaux.columns.tolist()\n",
        "cols = ['Survived'] + cols[0:-1]\n",
        "dfaux = dfaux[cols]\n",
        "df = df.append(dfaux)\n",
        "df.head()"
      ],
      "execution_count": 106,
      "outputs": [
        {
          "output_type": "execute_result",
          "data": {
            "text/html": [
              "<div>\n",
              "<style scoped>\n",
              "    .dataframe tbody tr th:only-of-type {\n",
              "        vertical-align: middle;\n",
              "    }\n",
              "\n",
              "    .dataframe tbody tr th {\n",
              "        vertical-align: top;\n",
              "    }\n",
              "\n",
              "    .dataframe thead th {\n",
              "        text-align: right;\n",
              "    }\n",
              "</style>\n",
              "<table border=\"1\" class=\"dataframe\">\n",
              "  <thead>\n",
              "    <tr style=\"text-align: right;\">\n",
              "      <th></th>\n",
              "      <th>Survived</th>\n",
              "      <th>Pclass</th>\n",
              "      <th>Name</th>\n",
              "      <th>Sex</th>\n",
              "      <th>Age</th>\n",
              "      <th>SibSp</th>\n",
              "      <th>Parch</th>\n",
              "      <th>Ticket</th>\n",
              "      <th>Fare</th>\n",
              "      <th>Cabin</th>\n",
              "      <th>Embarked</th>\n",
              "    </tr>\n",
              "    <tr>\n",
              "      <th>PassengerId</th>\n",
              "      <th></th>\n",
              "      <th></th>\n",
              "      <th></th>\n",
              "      <th></th>\n",
              "      <th></th>\n",
              "      <th></th>\n",
              "      <th></th>\n",
              "      <th></th>\n",
              "      <th></th>\n",
              "      <th></th>\n",
              "      <th></th>\n",
              "    </tr>\n",
              "  </thead>\n",
              "  <tbody>\n",
              "    <tr>\n",
              "      <th>1</th>\n",
              "      <td>0</td>\n",
              "      <td>3</td>\n",
              "      <td>Braund, Mr. Owen Harris</td>\n",
              "      <td>male</td>\n",
              "      <td>22.0</td>\n",
              "      <td>1</td>\n",
              "      <td>0</td>\n",
              "      <td>A/5 21171</td>\n",
              "      <td>7.2500</td>\n",
              "      <td>NaN</td>\n",
              "      <td>S</td>\n",
              "    </tr>\n",
              "    <tr>\n",
              "      <th>2</th>\n",
              "      <td>1</td>\n",
              "      <td>1</td>\n",
              "      <td>Cumings, Mrs. John Bradley (Florence Briggs Th...</td>\n",
              "      <td>female</td>\n",
              "      <td>38.0</td>\n",
              "      <td>1</td>\n",
              "      <td>0</td>\n",
              "      <td>PC 17599</td>\n",
              "      <td>71.2833</td>\n",
              "      <td>C85</td>\n",
              "      <td>C</td>\n",
              "    </tr>\n",
              "    <tr>\n",
              "      <th>3</th>\n",
              "      <td>1</td>\n",
              "      <td>3</td>\n",
              "      <td>Heikkinen, Miss. Laina</td>\n",
              "      <td>female</td>\n",
              "      <td>26.0</td>\n",
              "      <td>0</td>\n",
              "      <td>0</td>\n",
              "      <td>STON/O2. 3101282</td>\n",
              "      <td>7.9250</td>\n",
              "      <td>NaN</td>\n",
              "      <td>S</td>\n",
              "    </tr>\n",
              "    <tr>\n",
              "      <th>4</th>\n",
              "      <td>1</td>\n",
              "      <td>1</td>\n",
              "      <td>Futrelle, Mrs. Jacques Heath (Lily May Peel)</td>\n",
              "      <td>female</td>\n",
              "      <td>35.0</td>\n",
              "      <td>1</td>\n",
              "      <td>0</td>\n",
              "      <td>113803</td>\n",
              "      <td>53.1000</td>\n",
              "      <td>C123</td>\n",
              "      <td>S</td>\n",
              "    </tr>\n",
              "    <tr>\n",
              "      <th>5</th>\n",
              "      <td>0</td>\n",
              "      <td>3</td>\n",
              "      <td>Allen, Mr. William Henry</td>\n",
              "      <td>male</td>\n",
              "      <td>35.0</td>\n",
              "      <td>0</td>\n",
              "      <td>0</td>\n",
              "      <td>373450</td>\n",
              "      <td>8.0500</td>\n",
              "      <td>NaN</td>\n",
              "      <td>S</td>\n",
              "    </tr>\n",
              "  </tbody>\n",
              "</table>\n",
              "</div>"
            ],
            "text/plain": [
              "             Survived  Pclass  ... Cabin Embarked\n",
              "PassengerId                    ...               \n",
              "1                   0       3  ...   NaN        S\n",
              "2                   1       1  ...   C85        C\n",
              "3                   1       3  ...   NaN        S\n",
              "4                   1       1  ...  C123        S\n",
              "5                   0       3  ...   NaN        S\n",
              "\n",
              "[5 rows x 11 columns]"
            ]
          },
          "metadata": {},
          "execution_count": 106
        }
      ]
    },
    {
      "cell_type": "code",
      "source": [
        "df.info()"
      ],
      "metadata": {
        "colab": {
          "base_uri": "https://localhost:8080/"
        },
        "id": "WmR1R69F08Fz",
        "outputId": "b0d3e01b-e4d1-4346-88db-90ed637f2d6d"
      },
      "execution_count": 107,
      "outputs": [
        {
          "output_type": "stream",
          "name": "stdout",
          "text": [
            "<class 'pandas.core.frame.DataFrame'>\n",
            "Int64Index: 1309 entries, 1 to 1309\n",
            "Data columns (total 11 columns):\n",
            " #   Column    Non-Null Count  Dtype  \n",
            "---  ------    --------------  -----  \n",
            " 0   Survived  1309 non-null   int64  \n",
            " 1   Pclass    1309 non-null   int64  \n",
            " 2   Name      1309 non-null   object \n",
            " 3   Sex       1309 non-null   object \n",
            " 4   Age       1046 non-null   float64\n",
            " 5   SibSp     1309 non-null   int64  \n",
            " 6   Parch     1309 non-null   int64  \n",
            " 7   Ticket    1309 non-null   object \n",
            " 8   Fare      1308 non-null   float64\n",
            " 9   Cabin     295 non-null    object \n",
            " 10  Embarked  1307 non-null   object \n",
            "dtypes: float64(2), int64(4), object(5)\n",
            "memory usage: 122.7+ KB\n"
          ]
        }
      ]
    },
    {
      "cell_type": "markdown",
      "metadata": {
        "id": "RNt_GwPvKfxm"
      },
      "source": [
        "#Experimento 1"
      ]
    },
    {
      "cell_type": "markdown",
      "metadata": {
        "id": "1KXkcngSQtBl"
      },
      "source": [
        "Primeiro, iremos fazer um teste retirando as colunas 'Cabin' , 'Ticket', 'Embarked', dropando os valores que faltam no dataset e encodando a coluna de valores categóricos('Sex')."
      ]
    },
    {
      "cell_type": "code",
      "metadata": {
        "id": "BT3ctef9Np-A",
        "colab": {
          "base_uri": "https://localhost:8080/"
        },
        "outputId": "5c3d50c4-ce00-4a80-f38f-507175e9fc6b"
      },
      "source": [
        "df = df[['Pclass', 'Sex', 'Age', 'SibSp', 'Parch', 'Fare', 'Survived']]\n",
        "\n",
        "df['Sex'] = df['Sex'].map({'male': 0, 'female': 1})\n",
        "\n",
        "#Deletando instâncias que tenham valores faltando\n",
        "df1 =df.copy()\n",
        "df1 = df1.dropna()\n",
        "\n",
        "x_train, x_test, y_train, y_test = process_train_test(df1)\n"
      ],
      "execution_count": 108,
      "outputs": [
        {
          "output_type": "stream",
          "name": "stderr",
          "text": [
            "/usr/local/lib/python3.7/dist-packages/ipykernel_launcher.py:3: SettingWithCopyWarning: \n",
            "A value is trying to be set on a copy of a slice from a DataFrame.\n",
            "Try using .loc[row_indexer,col_indexer] = value instead\n",
            "\n",
            "See the caveats in the documentation: https://pandas.pydata.org/pandas-docs/stable/user_guide/indexing.html#returning-a-view-versus-a-copy\n",
            "  This is separate from the ipykernel package so we can avoid doing imports until\n"
          ]
        }
      ]
    },
    {
      "cell_type": "code",
      "metadata": {
        "colab": {
          "base_uri": "https://localhost:8080/"
        },
        "id": "NESx_pTHM4wZ",
        "outputId": "61343771-67f3-43fe-b71e-fff5b3a66d9c"
      },
      "source": [
        "df1.info()"
      ],
      "execution_count": 109,
      "outputs": [
        {
          "output_type": "stream",
          "name": "stdout",
          "text": [
            "<class 'pandas.core.frame.DataFrame'>\n",
            "Int64Index: 1045 entries, 1 to 1307\n",
            "Data columns (total 7 columns):\n",
            " #   Column    Non-Null Count  Dtype  \n",
            "---  ------    --------------  -----  \n",
            " 0   Pclass    1045 non-null   int64  \n",
            " 1   Sex       1045 non-null   int64  \n",
            " 2   Age       1045 non-null   float64\n",
            " 3   SibSp     1045 non-null   int64  \n",
            " 4   Parch     1045 non-null   int64  \n",
            " 5   Fare      1045 non-null   float64\n",
            " 6   Survived  1045 non-null   int64  \n",
            "dtypes: float64(2), int64(5)\n",
            "memory usage: 65.3 KB\n"
          ]
        }
      ]
    },
    {
      "cell_type": "code",
      "metadata": {
        "id": "73gW7-ByQkki",
        "colab": {
          "base_uri": "https://localhost:8080/"
        },
        "outputId": "435663d2-c82f-4607-9224-7d67f24e27e0"
      },
      "source": [
        "tree = DecisionTreeClassifier(random_state=28)\n",
        "tree.fit(x_train, y_train)"
      ],
      "execution_count": 110,
      "outputs": [
        {
          "output_type": "execute_result",
          "data": {
            "text/plain": [
              "DecisionTreeClassifier(random_state=28)"
            ]
          },
          "metadata": {},
          "execution_count": 110
        }
      ]
    },
    {
      "cell_type": "code",
      "metadata": {
        "id": "4dLWW9BKRKZ0",
        "colab": {
          "base_uri": "https://localhost:8080/",
          "height": 615
        },
        "outputId": "fc62cd8e-c39b-452a-d486-b8586d6ab135"
      },
      "source": [
        "getResults(x_test,y_test,tree)"
      ],
      "execution_count": 111,
      "outputs": [
        {
          "output_type": "stream",
          "name": "stdout",
          "text": [
            "Acurácia =  0.7709923664122137 \n",
            "\n",
            "\n",
            "\n"
          ]
        },
        {
          "output_type": "display_data",
          "data": {
            "image/png": "[encoded data removed]",
            "text/plain": [
              "<Figure size 432x288 with 2 Axes>"
            ]
          },
          "metadata": {}
        },
        {
          "output_type": "stream",
          "name": "stdout",
          "text": [
            "                   Predicted Not Survival  Predicted Survival\n",
            "True Not Survival                     127                  29\n",
            "True Survival                          31                  75\n",
            "\n",
            "\n",
            "\n",
            "\n",
            "              precision    recall  f1-score   support\n",
            "\n",
            "           0       0.80      0.81      0.81       156\n",
            "           1       0.72      0.71      0.71       106\n",
            "\n",
            "    accuracy                           0.77       262\n",
            "   macro avg       0.76      0.76      0.76       262\n",
            "weighted avg       0.77      0.77      0.77       262\n",
            "\n"
          ]
        }
      ]
    },
    {
      "cell_type": "markdown",
      "metadata": {
        "id": "gJN_5wEgGXO1"
      },
      "source": [
        "#Experimento 2\n",
        "\n",
        "Nesse experimento, iremos dar um tratamento melhor aos dados.\n"
      ]
    },
    {
      "cell_type": "code",
      "source": [
        "df2 = df.copy()\n",
        "df2.info()"
      ],
      "metadata": {
        "colab": {
          "base_uri": "https://localhost:8080/"
        },
        "id": "idL5AkaZh8YK",
        "outputId": "e900ca11-88d3-4ab3-deef-f471dedf0328"
      },
      "execution_count": 112,
      "outputs": [
        {
          "output_type": "stream",
          "name": "stdout",
          "text": [
            "<class 'pandas.core.frame.DataFrame'>\n",
            "Int64Index: 1309 entries, 1 to 1309\n",
            "Data columns (total 7 columns):\n",
            " #   Column    Non-Null Count  Dtype  \n",
            "---  ------    --------------  -----  \n",
            " 0   Pclass    1309 non-null   int64  \n",
            " 1   Sex       1309 non-null   int64  \n",
            " 2   Age       1046 non-null   float64\n",
            " 3   SibSp     1309 non-null   int64  \n",
            " 4   Parch     1309 non-null   int64  \n",
            " 5   Fare      1308 non-null   float64\n",
            " 6   Survived  1309 non-null   int64  \n",
            "dtypes: float64(2), int64(5)\n",
            "memory usage: 81.8 KB\n"
          ]
        }
      ]
    },
    {
      "cell_type": "markdown",
      "source": [
        "Pelas informações acima, vemos que a coluna 'Age' e 'Fare' tem dados faltando.\n",
        "Plotaremos os gráficos em caixa dos atributos e as distribuições de cada atributo."
      ],
      "metadata": {
        "id": "SZVorW_Q4bsa"
      }
    },
    {
      "cell_type": "code",
      "metadata": {
        "colab": {
          "base_uri": "https://localhost:8080/",
          "height": 323
        },
        "id": "rco2A-UPcRUn",
        "outputId": "83335fca-d5c5-4093-8e28-83ce77319fe9"
      },
      "source": [
        "variables = ['Pclass', 'Sex', 'Age', 'SibSp', 'Parch', 'Fare', 'Survived']\n",
        "boxplot = df2.boxplot(column=variables)"
      ],
      "execution_count": 113,
      "outputs": [
        {
          "output_type": "stream",
          "name": "stderr",
          "text": [
            "/usr/local/lib/python3.7/dist-packages/numpy/core/_asarray.py:83: VisibleDeprecationWarning: Creating an ndarray from ragged nested sequences (which is a list-or-tuple of lists-or-tuples-or ndarrays with different lengths or shapes) is deprecated. If you meant to do this, you must specify 'dtype=object' when creating the ndarray\n",
            "  return array(a, dtype, copy=False, order=order)\n"
          ]
        },
        {
          "output_type": "display_data",
          "data": {
            "image/png": "[encoded data removed]",
            "text/plain": [
              "<Figure size 432x288 with 1 Axes>"
            ]
          },
          "metadata": {}
        }
      ]
    },
    {
      "cell_type": "code",
      "source": [
        "for i in variables:\n",
        "  sns.displot(df2[i], kde = True)\n",
        "  plt.show()"
      ],
      "metadata": {
        "colab": {
          "base_uri": "https://localhost:8080/",
          "height": 1000
        },
        "id": "vP_6xKUhheDn",
        "outputId": "14163bfb-baaa-44ea-ed20-acdf96fb81d3"
      },
      "execution_count": 114,
      "outputs": [
        {
          "output_type": "display_data",
          "data": {
            "image/png": "[encoded data removed]",
            "text/plain": [
              "<Figure size 360x360 with 1 Axes>"
            ]
          },
          "metadata": {}
        },
        {
          "output_type": "display_data",
          "data": {
            "image/png": "[encoded data removed]",
            "text/plain": [
              "<Figure size 360x360 with 1 Axes>"
            ]
          },
          "metadata": {}
        },
        {
          "output_type": "display_data",
          "data": {
            "image/png": "[encoded data removed]",
            "text/plain": [
              "<Figure size 360x360 with 1 Axes>"
            ]
          },
          "metadata": {}
        },
        {
          "output_type": "display_data",
          "data": {
            "image/png": "[encoded data removed]",
            "text/plain": [
              "<Figure size 360x360 with 1 Axes>"
            ]
          },
          "metadata": {}
        },
        {
          "output_type": "display_data",
          "data": {
            "image/png": "[encoded data removed]",
            "text/plain": [
              "<Figure size 360x360 with 1 Axes>"
            ]
          },
          "metadata": {}
        },
        {
          "output_type": "display_data",
          "data": {
            "image/png": "[encoded data removed]",
            "text/plain": [
              "<Figure size 360x360 with 1 Axes>"
            ]
          },
          "metadata": {}
        },
        {
          "output_type": "display_data",
          "data": {
            "image/png": "[encoded data removed]",
            "text/plain": [
              "<Figure size 360x360 with 1 Axes>"
            ]
          },
          "metadata": {}
        }
      ]
    },
    {
      "cell_type": "markdown",
      "source": [
        "Além dos valores NaN na coluna de 'Age' e 'Fare', temos os valores iguais a zero em fare.\n",
        "Substituiremos esses valores pelas respectivas médias das colunas."
      ],
      "metadata": {
        "id": "UFzPhR5B6v93"
      }
    },
    {
      "cell_type": "code",
      "metadata": {
        "id": "2Y7sFOjKc0Lf"
      },
      "source": [
        "#Idade\n",
        "mean = df2['Age'].mean()\n",
        "\n",
        "df2['Age'] = df2['Age'].fillna(mean)\n",
        "\n",
        "#Fare\n",
        "mean = df2['Fare'].mean()\n",
        "df2['Fare'] = df2['Fare'].fillna(mean)\n",
        "df2['Fare'].replace({0: mean}, inplace = True)\n"
      ],
      "execution_count": 115,
      "outputs": []
    },
    {
      "cell_type": "code",
      "metadata": {
        "id": "qx4yZ-vjc0vP",
        "colab": {
          "base_uri": "https://localhost:8080/"
        },
        "outputId": "0af142a6-bbf1-4eab-8751-6adefa407da2"
      },
      "source": [
        "df2.info()"
      ],
      "execution_count": 116,
      "outputs": [
        {
          "output_type": "stream",
          "name": "stdout",
          "text": [
            "<class 'pandas.core.frame.DataFrame'>\n",
            "Int64Index: 1309 entries, 1 to 1309\n",
            "Data columns (total 7 columns):\n",
            " #   Column    Non-Null Count  Dtype  \n",
            "---  ------    --------------  -----  \n",
            " 0   Pclass    1309 non-null   int64  \n",
            " 1   Sex       1309 non-null   int64  \n",
            " 2   Age       1309 non-null   float64\n",
            " 3   SibSp     1309 non-null   int64  \n",
            " 4   Parch     1309 non-null   int64  \n",
            " 5   Fare      1309 non-null   float64\n",
            " 6   Survived  1309 non-null   int64  \n",
            "dtypes: float64(2), int64(5)\n",
            "memory usage: 81.8 KB\n"
          ]
        }
      ]
    },
    {
      "cell_type": "markdown",
      "source": [
        "Transformaremos os dados de idade em faixas de idade:\n",
        "\n",
        "*   1 - Menor que 18 anos\n",
        "*   2 - Entre 18 e 40 anos\n",
        "*   3 - Entre 40 e 60 anos\n",
        "*   4 - Maior que 60 anos\n"
      ],
      "metadata": {
        "id": "-K4KJeCU7bLj"
      }
    },
    {
      "cell_type": "code",
      "metadata": {
        "id": "Ftlvhr3jylVG"
      },
      "source": [
        "df2.loc[df2['Age'] <= 18, 'Age'] = 1\n",
        "df2.loc[(df2['Age'] > 18) & (df2['Age'] <= 40), 'Age'] = 2\n",
        "df2.loc[(df2['Age'] > 40) & (df2['Age'] <= 60), 'Age'] = 3\n",
        "df2.loc[df2['Age'] > 60, 'Age'] = 4"
      ],
      "execution_count": 117,
      "outputs": []
    },
    {
      "cell_type": "code",
      "metadata": {
        "colab": {
          "base_uri": "https://localhost:8080/",
          "height": 238
        },
        "id": "3gpTWCF6qo1P",
        "outputId": "e49d44ed-7125-478b-b5cf-07b5c19359f1"
      },
      "source": [
        "df2.head()"
      ],
      "execution_count": 118,
      "outputs": [
        {
          "output_type": "execute_result",
          "data": {
            "text/html": [
              "<div>\n",
              "<style scoped>\n",
              "    .dataframe tbody tr th:only-of-type {\n",
              "        vertical-align: middle;\n",
              "    }\n",
              "\n",
              "    .dataframe tbody tr th {\n",
              "        vertical-align: top;\n",
              "    }\n",
              "\n",
              "    .dataframe thead th {\n",
              "        text-align: right;\n",
              "    }\n",
              "</style>\n",
              "<table border=\"1\" class=\"dataframe\">\n",
              "  <thead>\n",
              "    <tr style=\"text-align: right;\">\n",
              "      <th></th>\n",
              "      <th>Pclass</th>\n",
              "      <th>Sex</th>\n",
              "      <th>Age</th>\n",
              "      <th>SibSp</th>\n",
              "      <th>Parch</th>\n",
              "      <th>Fare</th>\n",
              "      <th>Survived</th>\n",
              "    </tr>\n",
              "    <tr>\n",
              "      <th>PassengerId</th>\n",
              "      <th></th>\n",
              "      <th></th>\n",
              "      <th></th>\n",
              "      <th></th>\n",
              "      <th></th>\n",
              "      <th></th>\n",
              "      <th></th>\n",
              "    </tr>\n",
              "  </thead>\n",
              "  <tbody>\n",
              "    <tr>\n",
              "      <th>1</th>\n",
              "      <td>3</td>\n",
              "      <td>0</td>\n",
              "      <td>2.0</td>\n",
              "      <td>1</td>\n",
              "      <td>0</td>\n",
              "      <td>7.2500</td>\n",
              "      <td>0</td>\n",
              "    </tr>\n",
              "    <tr>\n",
              "      <th>2</th>\n",
              "      <td>1</td>\n",
              "      <td>1</td>\n",
              "      <td>2.0</td>\n",
              "      <td>1</td>\n",
              "      <td>0</td>\n",
              "      <td>71.2833</td>\n",
              "      <td>1</td>\n",
              "    </tr>\n",
              "    <tr>\n",
              "      <th>3</th>\n",
              "      <td>3</td>\n",
              "      <td>1</td>\n",
              "      <td>2.0</td>\n",
              "      <td>0</td>\n",
              "      <td>0</td>\n",
              "      <td>7.9250</td>\n",
              "      <td>1</td>\n",
              "    </tr>\n",
              "    <tr>\n",
              "      <th>4</th>\n",
              "      <td>1</td>\n",
              "      <td>1</td>\n",
              "      <td>2.0</td>\n",
              "      <td>1</td>\n",
              "      <td>0</td>\n",
              "      <td>53.1000</td>\n",
              "      <td>1</td>\n",
              "    </tr>\n",
              "    <tr>\n",
              "      <th>5</th>\n",
              "      <td>3</td>\n",
              "      <td>0</td>\n",
              "      <td>2.0</td>\n",
              "      <td>0</td>\n",
              "      <td>0</td>\n",
              "      <td>8.0500</td>\n",
              "      <td>0</td>\n",
              "    </tr>\n",
              "  </tbody>\n",
              "</table>\n",
              "</div>"
            ],
            "text/plain": [
              "             Pclass  Sex  Age  SibSp  Parch     Fare  Survived\n",
              "PassengerId                                                   \n",
              "1                 3    0  2.0      1      0   7.2500         0\n",
              "2                 1    1  2.0      1      0  71.2833         1\n",
              "3                 3    1  2.0      0      0   7.9250         1\n",
              "4                 1    1  2.0      1      0  53.1000         1\n",
              "5                 3    0  2.0      0      0   8.0500         0"
            ]
          },
          "metadata": {},
          "execution_count": 118
        }
      ]
    },
    {
      "cell_type": "code",
      "metadata": {
        "colab": {
          "base_uri": "https://localhost:8080/",
          "height": 619
        },
        "id": "BeenuTRYSedz",
        "outputId": "bb2f481a-bb15-48b0-8429-37e9d6c2613e"
      },
      "source": [
        "x_train, x_test, y_train, y_test = process_train_test(df2)\n",
        "\n",
        "tree.fit(x_train, y_train)\n",
        "getResults(x_test,y_test,tree)"
      ],
      "execution_count": 119,
      "outputs": [
        {
          "output_type": "stream",
          "name": "stdout",
          "text": [
            "Acurácia =  0.8323170731707317 \n",
            "\n",
            "\n",
            "\n"
          ]
        },
        {
          "output_type": "display_data",
          "data": {
            "image/png": "[encoded data removed]",
            "text/plain": [
              "<Figure size 432x288 with 2 Axes>"
            ]
          },
          "metadata": {}
        },
        {
          "output_type": "stream",
          "name": "stdout",
          "text": [
            "                   Predicted Not Survival  Predicted Survival\n",
            "True Not Survival                     180                  21\n",
            "True Survival                          34                  93\n",
            "\n",
            "\n",
            "\n",
            "\n",
            "              precision    recall  f1-score   support\n",
            "\n",
            "           0       0.84      0.90      0.87       201\n",
            "           1       0.82      0.73      0.77       127\n",
            "\n",
            "    accuracy                           0.83       328\n",
            "   macro avg       0.83      0.81      0.82       328\n",
            "weighted avg       0.83      0.83      0.83       328\n",
            "\n"
          ]
        }
      ]
    },
    {
      "cell_type": "markdown",
      "source": [
        "#Removendo outliers\n",
        "Iremos retirar os outliers baseado no z-score."
      ],
      "metadata": {
        "id": "MrIkbMms9WDB"
      }
    },
    {
      "cell_type": "code",
      "metadata": {
        "id": "l_JvkmCTdgcy",
        "colab": {
          "base_uri": "https://localhost:8080/",
          "height": 268
        },
        "outputId": "2041f8ad-8664-44c1-c433-6d3f22131f7d"
      },
      "source": [
        "z_scores = np.abs(stats.zscore(df2))\n",
        "filtered_entries = (z_scores < 3).all(axis=1)\n",
        "df2_out = df2[filtered_entries]\n",
        "boxplot = df2_out.boxplot(column=['Pclass', 'Sex', 'Age', 'SibSp', 'Parch', 'Fare', 'Survived'])"
      ],
      "execution_count": 120,
      "outputs": [
        {
          "output_type": "display_data",
          "data": {
            "image/png": "[encoded data removed]",
            "text/plain": [
              "<Figure size 432x288 with 1 Axes>"
            ]
          },
          "metadata": {}
        }
      ]
    },
    {
      "cell_type": "code",
      "source": [
        "x_train, x_test, y_train, y_test = process_train_test(df2_out)\n",
        "\n",
        "tree.fit(x_train, y_train)\n",
        "getResults(x_test,y_test,tree)"
      ],
      "metadata": {
        "colab": {
          "base_uri": "https://localhost:8080/",
          "height": 615
        },
        "id": "zzI3p-Ak-KfM",
        "outputId": "f5ea850d-abcf-4904-fea4-221082dd9c5b"
      },
      "execution_count": 121,
      "outputs": [
        {
          "output_type": "stream",
          "name": "stdout",
          "text": [
            "Acurácia =  0.835016835016835 \n",
            "\n",
            "\n",
            "\n"
          ]
        },
        {
          "output_type": "display_data",
          "data": {
            "image/png": "[encoded data removed]",
            "text/plain": [
              "<Figure size 432x288 with 2 Axes>"
            ]
          },
          "metadata": {}
        },
        {
          "output_type": "stream",
          "name": "stdout",
          "text": [
            "                   Predicted Not Survival  Predicted Survival\n",
            "True Not Survival                     169                  22\n",
            "True Survival                          27                  79\n",
            "\n",
            "\n",
            "\n",
            "\n",
            "              precision    recall  f1-score   support\n",
            "\n",
            "           0       0.86      0.88      0.87       191\n",
            "           1       0.78      0.75      0.76       106\n",
            "\n",
            "    accuracy                           0.84       297\n",
            "   macro avg       0.82      0.82      0.82       297\n",
            "weighted avg       0.83      0.84      0.83       297\n",
            "\n"
          ]
        }
      ]
    },
    {
      "cell_type": "markdown",
      "source": [
        "#Normalizando os dados\n",
        "\n",
        "Iremos normalizar a coluna Fare."
      ],
      "metadata": {
        "id": "4GFPBpdW-c9R"
      }
    },
    {
      "cell_type": "code",
      "metadata": {
        "id": "0AWvndNzgnIw",
        "colab": {
          "base_uri": "https://localhost:8080/",
          "height": 268
        },
        "outputId": "34fa18a4-65e1-465d-a7d8-711c1c110019"
      },
      "source": [
        "df2_norm = df2_out.copy()\n",
        "fare = df2_norm['Fare'].to_numpy()\n",
        "fare_sc = RobustScaler().fit_transform(fare.reshape(-1,1))\n",
        "fare_sc = fare_sc.tolist()\n",
        "df2_norm['Fare'].replace(fare_sc, inplace=True)\n",
        "boxplot = df2_norm.boxplot(column=['Pclass', 'Sex', 'Age', 'SibSp', 'Parch', 'Fare', 'Survived'])"
      ],
      "execution_count": 122,
      "outputs": [
        {
          "output_type": "display_data",
          "data": {
            "image/png": "[encoded data removed]",
            "text/plain": [
              "<Figure size 432x288 with 1 Axes>"
            ]
          },
          "metadata": {}
        }
      ]
    },
    {
      "cell_type": "code",
      "source": [
        "x_train, x_test, y_train, y_test = process_train_test(df2_out)\n",
        "\n",
        "tree.fit(x_train, y_train)\n",
        "getResults(x_test,y_test,tree)"
      ],
      "metadata": {
        "colab": {
          "base_uri": "https://localhost:8080/",
          "height": 615
        },
        "id": "Ee0bMm79QHYF",
        "outputId": "b3a457ce-d50d-4216-b669-4833905999fa"
      },
      "execution_count": 123,
      "outputs": [
        {
          "output_type": "stream",
          "name": "stdout",
          "text": [
            "Acurácia =  0.835016835016835 \n",
            "\n",
            "\n",
            "\n"
          ]
        },
        {
          "output_type": "display_data",
          "data": {
            "image/png": "[encoded data removed]",
            "text/plain": [
              "<Figure size 432x288 with 2 Axes>"
            ]
          },
          "metadata": {}
        },
        {
          "output_type": "stream",
          "name": "stdout",
          "text": [
            "                   Predicted Not Survival  Predicted Survival\n",
            "True Not Survival                     169                  22\n",
            "True Survival                          27                  79\n",
            "\n",
            "\n",
            "\n",
            "\n",
            "              precision    recall  f1-score   support\n",
            "\n",
            "           0       0.86      0.88      0.87       191\n",
            "           1       0.78      0.75      0.76       106\n",
            "\n",
            "    accuracy                           0.84       297\n",
            "   macro avg       0.82      0.82      0.82       297\n",
            "weighted avg       0.83      0.84      0.83       297\n",
            "\n"
          ]
        }
      ]
    },
    {
      "cell_type": "markdown",
      "source": [
        "A normalização não alterou a acurácia, recall ou precision. Com isso, vemos uma propriedade interessante dos modelos de árvores: Qualquer modelo de árvore é robusto a scaling."
      ],
      "metadata": {
        "id": "Ub8XGY8-POwE"
      }
    },
    {
      "cell_type": "markdown",
      "metadata": {
        "id": "RTA1X0YjkNjC"
      },
      "source": [
        "#Experimento 3\n",
        "Escolheremos as variáveis através do algoritmo Boruta, que consiste em treinar um metamodelo(uma random forest) com todas as varíaveis e a partir dos resultados desse metamodelo, podemos escolher quais as melhores variáveis. "
      ]
    },
    {
      "cell_type": "code",
      "metadata": {
        "colab": {
          "base_uri": "https://localhost:8080/"
        },
        "id": "LNVbUKKVYeGK",
        "outputId": "86d72b2b-cfab-46f7-bccc-59d2a36db89c"
      },
      "source": [
        "pip install Boruta"
      ],
      "execution_count": 124,
      "outputs": [
        {
          "output_type": "stream",
          "name": "stdout",
          "text": [
            "Requirement already satisfied: Boruta in /usr/local/lib/python3.7/dist-packages (0.3)\n",
            "Requirement already satisfied: scipy>=0.17.0 in /usr/local/lib/python3.7/dist-packages (from Boruta) (1.4.1)\n",
            "Requirement already satisfied: numpy>=1.10.4 in /usr/local/lib/python3.7/dist-packages (from Boruta) (1.19.5)\n",
            "Requirement already satisfied: scikit-learn>=0.17.1 in /usr/local/lib/python3.7/dist-packages (from Boruta) (1.0.1)\n",
            "Requirement already satisfied: joblib>=0.11 in /usr/local/lib/python3.7/dist-packages (from scikit-learn>=0.17.1->Boruta) (1.1.0)\n",
            "Requirement already satisfied: threadpoolctl>=2.0.0 in /usr/local/lib/python3.7/dist-packages (from scikit-learn>=0.17.1->Boruta) (3.0.0)\n"
          ]
        }
      ]
    },
    {
      "cell_type": "code",
      "metadata": {
        "colab": {
          "base_uri": "https://localhost:8080/"
        },
        "id": "TsxltBuRWNLq",
        "outputId": "8397bd9f-6d51-45e6-d75a-038dccf51325"
      },
      "source": [
        "df3 = df2.copy()\n",
        "\n",
        "import pandas as pd\n",
        "from sklearn.ensemble import RandomForestClassifier\n",
        "from boruta import BorutaPy\n",
        "\n",
        "metamodel = RandomForestClassifier(max_depth = 4)\n",
        "feature_selector = BorutaPy(metamodel, n_estimators='auto', verbose=1, random_state=28)\n",
        "x_train, x_test, y_train, y_test = process_train_test(df3)\n",
        "x_train=x_train.to_numpy()\n",
        "y_train=y_train.ravel()\n",
        "feature_selector.fit(x_train, y_train)\n"
      ],
      "execution_count": 125,
      "outputs": [
        {
          "output_type": "stream",
          "name": "stdout",
          "text": [
            "Iteration: 1 / 100\n",
            "Iteration: 2 / 100\n",
            "Iteration: 3 / 100\n",
            "Iteration: 4 / 100\n",
            "Iteration: 5 / 100\n",
            "Iteration: 6 / 100\n",
            "Iteration: 7 / 100\n",
            "Iteration: 8 / 100\n",
            "Iteration: 9 / 100\n",
            "Iteration: 10 / 100\n",
            "Iteration: 11 / 100\n",
            "Iteration: 12 / 100\n",
            "Iteration: 13 / 100\n",
            "Iteration: 14 / 100\n",
            "Iteration: 15 / 100\n",
            "Iteration: 16 / 100\n",
            "\n",
            "\n",
            "BorutaPy finished running.\n",
            "\n",
            "Iteration: \t17 / 100\n",
            "Confirmed: \t5\n",
            "Tentative: \t0\n",
            "Rejected: \t1\n"
          ]
        },
        {
          "output_type": "execute_result",
          "data": {
            "text/plain": [
              "BorutaPy(estimator=RandomForestClassifier(max_depth=4, n_estimators=79,\n",
              "                                          random_state=RandomState(MT19937) at 0x7FD6BCCC68D0),\n",
              "         n_estimators='auto',\n",
              "         random_state=RandomState(MT19937) at 0x7FD6BCCC68D0, verbose=1)"
            ]
          },
          "metadata": {},
          "execution_count": 125
        }
      ]
    },
    {
      "cell_type": "code",
      "metadata": {
        "colab": {
          "base_uri": "https://localhost:8080/"
        },
        "id": "2tgxrbl5gQ6b",
        "outputId": "9d6bc3a2-7f3f-4c09-8182-0c5cb137b097"
      },
      "source": [
        "feature_selector.support_"
      ],
      "execution_count": 126,
      "outputs": [
        {
          "output_type": "execute_result",
          "data": {
            "text/plain": [
              "array([ True,  True, False,  True,  True,  True])"
            ]
          },
          "metadata": {},
          "execution_count": 126
        }
      ]
    },
    {
      "cell_type": "code",
      "metadata": {
        "id": "jDYHX64wgWk5"
      },
      "source": [
        "df3 = df3[['Pclass', 'Sex','SibSp', 'Parch','Fare', 'Survived']]"
      ],
      "execution_count": 127,
      "outputs": []
    },
    {
      "cell_type": "code",
      "metadata": {
        "colab": {
          "base_uri": "https://localhost:8080/",
          "height": 615
        },
        "id": "oKgpFgpiiaYl",
        "outputId": "332c3b68-dae4-441c-9031-013966762cae"
      },
      "source": [
        "x_train, x_test, y_train, y_test = process_train_test(df3)\n",
        "tree.fit(x_train,y_train)\n",
        "getResults(x_test,y_test, tree)"
      ],
      "execution_count": 128,
      "outputs": [
        {
          "output_type": "stream",
          "name": "stdout",
          "text": [
            "Acurácia =  0.8353658536585366 \n",
            "\n",
            "\n",
            "\n"
          ]
        },
        {
          "output_type": "display_data",
          "data": {
            "image/png": "[encoded data removed]",
            "text/plain": [
              "<Figure size 432x288 with 2 Axes>"
            ]
          },
          "metadata": {}
        },
        {
          "output_type": "stream",
          "name": "stdout",
          "text": [
            "                   Predicted Not Survival  Predicted Survival\n",
            "True Not Survival                     179                  22\n",
            "True Survival                          32                  95\n",
            "\n",
            "\n",
            "\n",
            "\n",
            "              precision    recall  f1-score   support\n",
            "\n",
            "           0       0.85      0.89      0.87       201\n",
            "           1       0.81      0.75      0.78       127\n",
            "\n",
            "    accuracy                           0.84       328\n",
            "   macro avg       0.83      0.82      0.82       328\n",
            "weighted avg       0.83      0.84      0.83       328\n",
            "\n"
          ]
        }
      ]
    },
    {
      "cell_type": "markdown",
      "source": [
        "#Experimento 4\n",
        "\n",
        "Fazendo a escolha das variáveis manualmente, depois de várias combinações, concluímos que a combinação 'Pclass','Sex','SibSp' seria a escolha que maximiza a acurácia do modelo."
      ],
      "metadata": {
        "id": "8TyRuAs0iuVR"
      }
    },
    {
      "cell_type": "code",
      "source": [
        "df4 = df2.copy()\n",
        "manual_variables = ['Pclass','Sex','SibSp','Survived']\n",
        "\n",
        "df4 = df4[manual_variables]\n",
        "\n",
        "x_train, x_test, y_train, y_test = process_train_test(df4)\n",
        "tree.fit(x_train, y_train)"
      ],
      "metadata": {
        "colab": {
          "base_uri": "https://localhost:8080/"
        },
        "id": "_GCpTnjDi9WN",
        "outputId": "c8b6bf14-31c5-49d8-fe02-f9aa9a12247c"
      },
      "execution_count": 129,
      "outputs": [
        {
          "output_type": "execute_result",
          "data": {
            "text/plain": [
              "DecisionTreeClassifier(random_state=28)"
            ]
          },
          "metadata": {},
          "execution_count": 129
        }
      ]
    },
    {
      "cell_type": "code",
      "source": [
        "getResults(x_test,y_test,tree)"
      ],
      "metadata": {
        "colab": {
          "base_uri": "https://localhost:8080/",
          "height": 615
        },
        "id": "lCLZeihrkLlF",
        "outputId": "73d12621-576b-4316-8d5c-c2038e4b5db2"
      },
      "execution_count": 130,
      "outputs": [
        {
          "output_type": "stream",
          "name": "stdout",
          "text": [
            "Acurácia =  0.8658536585365854 \n",
            "\n",
            "\n",
            "\n"
          ]
        },
        {
          "output_type": "display_data",
          "data": {
            "image/png": "[encoded data removed]",
            "text/plain": [
              "<Figure size 432x288 with 2 Axes>"
            ]
          },
          "metadata": {}
        },
        {
          "output_type": "stream",
          "name": "stdout",
          "text": [
            "                   Predicted Not Survival  Predicted Survival\n",
            "True Not Survival                     183                  18\n",
            "True Survival                          26                 101\n",
            "\n",
            "\n",
            "\n",
            "\n",
            "              precision    recall  f1-score   support\n",
            "\n",
            "           0       0.88      0.91      0.89       201\n",
            "           1       0.85      0.80      0.82       127\n",
            "\n",
            "    accuracy                           0.87       328\n",
            "   macro avg       0.86      0.85      0.86       328\n",
            "weighted avg       0.87      0.87      0.86       328\n",
            "\n"
          ]
        }
      ]
    },
    {
      "cell_type": "markdown",
      "source": [
        "#Experimento 5\n",
        "Agora, para evitar o overfitting, iremos usar o método de prunning \"cost_complexity_pruning_path\" que nos dará um parâmetro alfa pelo qual poderemos controlar a impureza da árvore e comparar qual será o melhor alfa que maximiza os resultados no conjunto de teste.\n"
      ],
      "metadata": {
        "id": "1F0ccnNxnEK7"
      }
    },
    {
      "cell_type": "code",
      "source": [
        "#Pondo os possíveis alfas numa lista\n",
        "tree = DecisionTreeClassifier(random_state=28)\n",
        "tree.fit(x_train,y_train)\n",
        "path = tree.cost_complexity_pruning_path(x_train, y_train)\n",
        "alphas = path['ccp_alphas']\n",
        "alphas"
      ],
      "metadata": {
        "colab": {
          "base_uri": "https://localhost:8080/"
        },
        "id": "1pKIcpvZnB9m",
        "outputId": "8f7bfc9b-25f6-4386-d5cc-a986eab43cca"
      },
      "execution_count": 131,
      "outputs": [
        {
          "output_type": "execute_result",
          "data": {
            "text/plain": [
              "array([0.00000000e+00, 2.27071191e-08, 1.28751097e-05, 1.88771850e-05,\n",
              "       1.88771850e-05, 2.76400061e-05, 2.80046152e-05, 2.83157776e-05,\n",
              "       3.39789331e-05, 8.49473327e-05, 9.79392776e-05, 1.36472764e-04,\n",
              "       1.52889650e-04, 1.67100028e-04, 1.78300309e-04, 3.71188445e-04,\n",
              "       9.62745149e-04, 5.69511221e-03, 5.76369761e-03, 1.34628766e-02,\n",
              "       2.18551719e-01])"
            ]
          },
          "metadata": {},
          "execution_count": 131
        }
      ]
    },
    {
      "cell_type": "code",
      "source": [
        "accuracy_train, accuracy_test = [],[]\n",
        "\n",
        "#Calculando a acurrácia para o conjunto de treino e conjunto de teste e guardando em duas listas\n",
        "for i in alphas:\n",
        "  tree = DecisionTreeClassifier(ccp_alpha=i)\n",
        "  tree.fit(x_train,y_train)\n",
        "  y_train_pred = tree.predict(x_train)\n",
        "  y_test_pred = tree.predict(x_test)\n",
        "\n",
        "  accuracy_train.append(accuracy_score(y_train,y_train_pred))\n",
        "  accuracy_test.append(accuracy_score(y_test,y_test_pred))\n",
        "\n",
        "#plotando as acurácias para diversos alfas num gráfico.\n",
        "sns.set()\n",
        "plt.figure(figsize=(20,10))\n",
        "sns.lineplot(y=accuracy_train,x=alphas,label = 'Train accuracy')\n",
        "sns.lineplot(y=accuracy_test,x=alphas,label = 'Test accuracy')\n",
        "plt.xticks(ticks = np.arange(0.00,0.25,0.008))\n",
        "plt.show()"
      ],
      "metadata": {
        "colab": {
          "base_uri": "https://localhost:8080/",
          "height": 479
        },
        "id": "VfKw6ZfzrSQM",
        "outputId": "7ff4551a-36ea-4548-b74f-99acb55e573e"
      },
      "execution_count": 132,
      "outputs": [
        {
          "output_type": "display_data",
          "data": {
            "image/png": "[encoded data removed]",
            "text/plain": [
              "<Figure size 1440x720 with 1 Axes>"
            ]
          },
          "metadata": {}
        }
      ]
    },
    {
      "cell_type": "markdown",
      "source": [
        "Pelo gráfico, percebemos que o melhor alpha é 0, que é o default do classificador. Daí temos:"
      ],
      "metadata": {
        "id": "v9e94nHnxMm0"
      }
    },
    {
      "cell_type": "code",
      "source": [
        "tree = DecisionTreeClassifier(random_state=28)\n",
        "tree.fit(x_train,y_train)\n",
        "getResults(x_test, y_test,tree)"
      ],
      "metadata": {
        "colab": {
          "base_uri": "https://localhost:8080/",
          "height": 615
        },
        "id": "hDE-l-mgweZt",
        "outputId": "6ea405e7-1fb9-447d-a154-5217b74d2d49"
      },
      "execution_count": 133,
      "outputs": [
        {
          "output_type": "stream",
          "name": "stdout",
          "text": [
            "Acurácia =  0.8658536585365854 \n",
            "\n",
            "\n",
            "\n"
          ]
        },
        {
          "output_type": "display_data",
          "data": {
            "image/png": "[encoded data removed]",
            "text/plain": [
              "<Figure size 432x288 with 2 Axes>"
            ]
          },
          "metadata": {}
        },
        {
          "output_type": "stream",
          "name": "stdout",
          "text": [
            "                   Predicted Not Survival  Predicted Survival\n",
            "True Not Survival                     183                  18\n",
            "True Survival                          26                 101\n",
            "\n",
            "\n",
            "\n",
            "\n",
            "              precision    recall  f1-score   support\n",
            "\n",
            "           0       0.88      0.91      0.89       201\n",
            "           1       0.85      0.80      0.82       127\n",
            "\n",
            "    accuracy                           0.87       328\n",
            "   macro avg       0.86      0.85      0.86       328\n",
            "weighted avg       0.87      0.87      0.86       328\n",
            "\n"
          ]
        }
      ]
    },
    {
      "cell_type": "markdown",
      "metadata": {
        "id": "DA_wz33bltrY"
      },
      "source": [
        "#Experimento 6\n",
        "Nesse teste, iremos mexer em alguns dos hiperparâmetros das árvores através da função gridSearchCV."
      ]
    },
    {
      "cell_type": "code",
      "metadata": {
        "colab": {
          "base_uri": "https://localhost:8080/"
        },
        "id": "zUalYPzrlqeD",
        "outputId": "204268cc-a16a-4f90-ff66-22dee0ab26b7"
      },
      "source": [
        "df6 = df4.copy()\n",
        "tree = DecisionTreeClassifier(random_state=28)\n",
        "possible_param = {\n",
        "    'criterion':['gini','entropy'],\n",
        "    'max_depth':range(1,15),\n",
        "    'min_samples_split':range(2,10),\n",
        "    'min_samples_leaf':range(1,5),\n",
        "}\n",
        "\n",
        "results = GridSearchCV(tree,param_grid=possible_param, cv=5,verbose=1)\n",
        "\n",
        "results.fit(x_train,y_train)\n",
        "\n",
        "\n"
      ],
      "execution_count": 134,
      "outputs": [
        {
          "output_type": "stream",
          "name": "stdout",
          "text": [
            "Fitting 5 folds for each of 896 candidates, totalling 4480 fits\n"
          ]
        },
        {
          "output_type": "execute_result",
          "data": {
            "text/plain": [
              "GridSearchCV(cv=5, estimator=DecisionTreeClassifier(random_state=28),\n",
              "             param_grid={'criterion': ['gini', 'entropy'],\n",
              "                         'max_depth': range(1, 15),\n",
              "                         'min_samples_leaf': range(1, 5),\n",
              "                         'min_samples_split': range(2, 10)},\n",
              "             verbose=1)"
            ]
          },
          "metadata": {},
          "execution_count": 134
        }
      ]
    },
    {
      "cell_type": "code",
      "metadata": {
        "colab": {
          "base_uri": "https://localhost:8080/"
        },
        "id": "MZMfnVxESLh1",
        "outputId": "d354e66d-1e58-4991-bafa-230262cf5a20"
      },
      "source": [
        "results.best_params_"
      ],
      "execution_count": 135,
      "outputs": [
        {
          "output_type": "execute_result",
          "data": {
            "text/plain": [
              "{'criterion': 'gini',\n",
              " 'max_depth': 3,\n",
              " 'min_samples_leaf': 2,\n",
              " 'min_samples_split': 2}"
            ]
          },
          "metadata": {},
          "execution_count": 135
        }
      ]
    },
    {
      "cell_type": "code",
      "metadata": {
        "id": "jUwd74HrWgo0"
      },
      "source": [
        "tree = DecisionTreeClassifier(criterion='gini',max_depth=3,min_samples_leaf=2,min_samples_split=2,random_state=28)"
      ],
      "execution_count": 136,
      "outputs": []
    },
    {
      "cell_type": "code",
      "metadata": {
        "colab": {
          "base_uri": "https://localhost:8080/",
          "height": 615
        },
        "id": "ca8BZ1txW9-c",
        "outputId": "0af47292-7be1-4905-9466-6a2ec35cf94d"
      },
      "source": [
        "x_train, x_test, y_train, y_test = process_train_test(df6)\n",
        "tree.fit(x_train,y_train)\n",
        "getResults(x_test,y_test, tree)"
      ],
      "execution_count": 137,
      "outputs": [
        {
          "output_type": "stream",
          "name": "stdout",
          "text": [
            "Acurácia =  0.8658536585365854 \n",
            "\n",
            "\n",
            "\n"
          ]
        },
        {
          "output_type": "display_data",
          "data": {
            "image/png": "[encoded data removed]",
            "text/plain": [
              "<Figure size 432x288 with 2 Axes>"
            ]
          },
          "metadata": {}
        },
        {
          "output_type": "stream",
          "name": "stdout",
          "text": [
            "                   Predicted Not Survival  Predicted Survival\n",
            "True Not Survival                     183                  18\n",
            "True Survival                          26                 101\n",
            "\n",
            "\n",
            "\n",
            "\n",
            "              precision    recall  f1-score   support\n",
            "\n",
            "           0       0.88      0.91      0.89       201\n",
            "           1       0.85      0.80      0.82       127\n",
            "\n",
            "    accuracy                           0.87       328\n",
            "   macro avg       0.86      0.85      0.86       328\n",
            "weighted avg       0.87      0.87      0.86       328\n",
            "\n"
          ]
        }
      ]
    },
    {
      "cell_type": "code",
      "source": [
        "vis_tree(\"gini\",df6.drop(['Survived'],axis=1),df6['Survived'])"
      ],
      "metadata": {
        "id": "1YpQnDcwbHYU"
      },
      "execution_count": 138,
      "outputs": []
    }
  ]
}